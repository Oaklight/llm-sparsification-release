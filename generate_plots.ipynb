{
 "cells": [
  {
   "cell_type": "code",
   "execution_count": 7,
   "metadata": {},
   "outputs": [],
   "source": [
    "import glob\n",
    "import json\n",
    "\n",
    "perplexities = {}\n",
    "\n",
    "for file in glob.glob('*/all_results.json'):\n",
    "    name = file.split(\"\\\\\")[0]\n",
    "    try:\n",
    "        perplexities[name] = json.load(open(file, \"r\"))['perplexity']\n",
    "    except:\n",
    "        continue"
   ]
  },
  {
   "cell_type": "code",
   "execution_count": 8,
   "metadata": {},
   "outputs": [
    {
     "data": {
      "text/plain": [
       "{'bert-base': 1.0846661749618185,\n",
       " 'bert-base-0.1': 1.2445919523745683,\n",
       " 'bert-base-0.5': 4.924881191950635,\n",
       " 'bert-base-0.9': 274.2968961800083,\n",
       " 'bert-base-0.95': 1287.7836382791152,\n",
       " 'bert-base-0.99': 455.64787808104836,\n",
       " 'gpt2-0.1': 21.63919563079019,\n",
       " 'gpt2-0.5': 34.73099291258811,\n",
       " 'gpt2-0.9': 830.69394420909,\n",
       " 'gpt2-0.95': 1448.0162713867576,\n",
       " 'gpt2-0.99': 1724.3948796919844,\n",
       " 'gpt2-base': 21.561401137427417,\n",
       " 'test-clm-gpt2-base': 21.561401137427417,\n",
       " 'test-clm-pegasus-0.0-train': 1.002462760907067,\n",
       " 'xlnet-0.1': 1.0001126690206052,\n",
       " 'xlnet-0.5': 1.000012105296773,\n",
       " 'xlnet-0.9': 1.0006170403314985,\n",
       " 'xlnet-0.95': 1.0077927650582268,\n",
       " 'xlnet-0.99': 1.5728455052164616,\n",
       " 'xlnet-base': 1.0000348070552998}"
      ]
     },
     "execution_count": 8,
     "metadata": {},
     "output_type": "execute_result"
    }
   ],
   "source": [
    "perplexities"
   ]
  },
  {
   "cell_type": "code",
   "execution_count": 25,
   "metadata": {},
   "outputs": [],
   "source": [
    "def sort_graphs(p):\n",
    "    return zip(*sorted(zip(list(p.keys()), list(p.values()))))"
   ]
  },
  {
   "cell_type": "code",
   "execution_count": 26,
   "metadata": {},
   "outputs": [],
   "source": [
    "bert_perplexities = {float(name.split(\"-\")[-1] if '0' in name else 0): perplexities[name] for name in perplexities if 'bert' in name}\n",
    "bert_keys, bert_vals = sort_graphs(bert_perplexities)"
   ]
  },
  {
   "cell_type": "code",
   "execution_count": 27,
   "metadata": {},
   "outputs": [
    {
     "data": {
      "image/png": "[encoded data removed]",
      "text/plain": [
       "<Figure size 432x288 with 1 Axes>"
      ]
     },
     "metadata": {
      "needs_background": "light"
     },
     "output_type": "display_data"
    }
   ],
   "source": [
    "import matplotlib.pyplot as plt\n",
    "plt.plot(bert_keys, bert_vals)\n",
    "plt.xlabel(\"BERT Sparsity level\")\n",
    "plt.ylabel(\"Perplexity\")\n",
    "plt.yscale('log')"
   ]
  },
  {
   "cell_type": "code",
   "execution_count": 28,
   "metadata": {},
   "outputs": [],
   "source": [
    "gpt_perplexities = {float(name.split(\"-\")[-1] if '0' in name else 0): perplexities[name] for name in perplexities if 'gpt' in name}\n",
    "gpt_keys, gpt_vals = sort_graphs(gpt_perplexities)"
   ]
  },
  {
   "cell_type": "code",
   "execution_count": 29,
   "metadata": {},
   "outputs": [
    {
     "data": {
      "image/png": "[encoded data removed]",
      "text/plain": [
       "<Figure size 432x288 with 1 Axes>"
      ]
     },
     "metadata": {
      "needs_background": "light"
     },
     "output_type": "display_data"
    }
   ],
   "source": [
    "import matplotlib.pyplot as plt\n",
    "plt.plot(gpt_keys, gpt_vals)\n",
    "plt.xlabel(\"GPT Sparsity level\")\n",
    "plt.ylabel(\"Perplexity\")\n",
    "plt.yscale('log')"
   ]
  },
  {
   "cell_type": "code",
   "execution_count": 32,
   "metadata": {},
   "outputs": [],
   "source": [
    "runtimes = {}\n",
    "\n",
    "for file in glob.glob('*/all_results.json'):\n",
    "    name = file.split(\"\\\\\")[0]\n",
    "    try:\n",
    "        runtimes[name] = json.load(open(file, \"r\"))['eval_samples_per_second']\n",
    "    except:\n",
    "        continue"
   ]
  },
  {
   "cell_type": "code",
   "execution_count": 33,
   "metadata": {},
   "outputs": [
    {
     "data": {
      "text/plain": [
       "{'bert-base': 115.418,\n",
       " 'bert-base-0.1': 93.338,\n",
       " 'bert-base-0.5': 97.856,\n",
       " 'bert-base-0.9': 113.966,\n",
       " 'bert-base-0.95': 93.039,\n",
       " 'bert-base-0.99': 99.348,\n",
       " 'bert-glue': 568.145,\n",
       " 'bert-glue-0.1': 529.625,\n",
       " 'bert-glue-0.5': 569.762,\n",
       " 'bert-glue-0.9': 567.476,\n",
       " 'bert-glue-0.95': 529.308,\n",
       " 'bert-glue-0.99': 609.145,\n",
       " 'gpt2-0.1': 56.827,\n",
       " 'gpt2-0.5': 68.735,\n",
       " 'gpt2-0.9': 69.701,\n",
       " 'gpt2-0.95': 69.616,\n",
       " 'gpt2-0.99': 69.702,\n",
       " 'gpt2-base': 69.735,\n",
       " 'test-clm-gpt2-base': 53.312,\n",
       " 'test-clm-pegasus-0.0-train': 36.846,\n",
       " 'xlnet-0.1': 39.965,\n",
       " 'xlnet-0.5': 39.2,\n",
       " 'xlnet-0.9': 35.825,\n",
       " 'xlnet-0.95': 47.526,\n",
       " 'xlnet-0.99': 47.986,\n",
       " 'xlnet-base': 48.166}"
      ]
     },
     "execution_count": 33,
     "metadata": {},
     "output_type": "execute_result"
    }
   ],
   "source": [
    "runtimes"
   ]
  },
  {
   "cell_type": "code",
   "execution_count": 34,
   "metadata": {},
   "outputs": [],
   "source": [
    "bert_runtimes= {float(name.split(\"-\")[-1] if '0' in name else 0): runtimes[name] for name in runtimes if 'bert' in name}\n",
    "bert_run_keys, bert_run_vals = sort_graphs(bert_runtimes)"
   ]
  },
  {
   "cell_type": "code",
   "execution_count": 36,
   "metadata": {},
   "outputs": [
    {
     "data": {
      "text/plain": [
       "Text(0, 0.5, 'Runtime (Evals per')"
      ]
     },
     "execution_count": 36,
     "metadata": {},
     "output_type": "execute_result"
    },
    {
     "data": {
      "image/png": "[encoded data removed]",
      "text/plain": [
       "<Figure size 432x288 with 1 Axes>"
      ]
     },
     "metadata": {
      "needs_background": "light"
     },
     "output_type": "display_data"
    }
   ],
   "source": [
    "import matplotlib.pyplot as plt\n",
    "plt.plot(bert_run_keys, bert_run_vals)\n",
    "plt.xlabel(\"BERT Sparsity level\")\n",
    "plt.ylabel(\"Runtime (Evals per second)\")"
   ]
  },
  {
   "cell_type": "code",
   "execution_count": 37,
   "metadata": {},
   "outputs": [],
   "source": [
    "gpt_runtimes= {float(name.split(\"-\")[-1] if '0' in name else 0): runtimes[name] for name in runtimes if 'gpt' in name}\n",
    "gpt_run_keys, gpt_run_vals = sort_graphs(gpt_runtimes)"
   ]
  },
  {
   "cell_type": "code",
   "execution_count": 38,
   "metadata": {},
   "outputs": [
    {
     "data": {
      "text/plain": [
       "Text(0, 0.5, 'Runtime (Evals per second)')"
      ]
     },
     "execution_count": 38,
     "metadata": {},
     "output_type": "execute_result"
    },
    {
     "data": {
      "image/png": "[encoded data removed]",
      "text/plain": [
       "<Figure size 432x288 with 1 Axes>"
      ]
     },
     "metadata": {
      "needs_background": "light"
     },
     "output_type": "display_data"
    }
   ],
   "source": [
    "import matplotlib.pyplot as plt\n",
    "plt.plot(gpt_run_keys, gpt_run_vals)\n",
    "plt.xlabel(\"GPT Sparsity level\")\n",
    "plt.ylabel(\"Runtime (Evals per second)\")"
   ]
  },
  {
   "cell_type": "code",
   "execution_count": 39,
   "metadata": {},
   "outputs": [],
   "source": [
    "model_sizes = json.load(open(\"./model_sizes.json\", \"r\"))"
   ]
  },
  {
   "cell_type": "code",
   "execution_count": 40,
   "metadata": {},
   "outputs": [
    {
     "data": {
      "text/plain": [
       "{'bert.0.1': 1334444913,\n",
       " 'bert.0.5': 1334444913,\n",
       " 'bert.0.9': 1334444913,\n",
       " 'bert.0.95': 1334444913,\n",
       " 'bert.0.99': 1334444913,\n",
       " 'bert.base': 1334444913,\n",
       " 'gpt2.0.1': 510391913,\n",
       " 'gpt2.0.5': 510391913,\n",
       " 'gpt2.0.9': 510391913,\n",
       " 'gpt2.0.95': 510391913,\n",
       " 'gpt2.0.99': 510391913,\n",
       " 'gpt2.base': 510391913}"
      ]
     },
     "execution_count": 40,
     "metadata": {},
     "output_type": "execute_result"
    }
   ],
   "source": [
    "model_sizes"
   ]
  },
  {
   "cell_type": "code",
   "execution_count": 42,
   "metadata": {},
   "outputs": [],
   "source": [
    "bert_sizes= {0.01 * float(name.split(\".\")[-1] if '0' in name else 0): model_sizes[name] for name in model_sizes if 'bert' in name}\n",
    "bert_size_keys, bert_size_vals = sort_graphs(bert_sizes)"
   ]
  },
  {
   "cell_type": "code",
   "execution_count": 46,
   "metadata": {},
   "outputs": [
    {
     "data": {
      "text/plain": [
       "Text(0, 0.5, 'Size of Model on Disk')"
      ]
     },
     "execution_count": 46,
     "metadata": {},
     "output_type": "execute_result"
    },
    {
     "data": {
      "image/png": "[encoded data removed]",
      "text/plain": [
       "<Figure size 432x288 with 1 Axes>"
      ]
     },
     "metadata": {
      "needs_background": "light"
     },
     "output_type": "display_data"
    }
   ],
   "source": [
    "import matplotlib.pyplot as plt\n",
    "plt.plot(bert_size_keys, bert_size_vals)\n",
    "plt.xlabel(\"BERT Sparsity level\")\n",
    "plt.ylabel(\"Size of Model on Disk\")"
   ]
  },
  {
   "cell_type": "code",
   "execution_count": 47,
   "metadata": {},
   "outputs": [],
   "source": [
    "gpt_sizes= {0.01 * float(name.split(\".\")[-1] if '0' in name else 0): model_sizes[name] for name in model_sizes if 'gpt' in name}\n",
    "gpt_size_keys, gpt_size_vals = sort_graphs(gpt_sizes)"
   ]
  },
  {
   "cell_type": "code",
   "execution_count": 48,
   "metadata": {},
   "outputs": [
    {
     "data": {
      "text/plain": [
       "Text(0, 0.5, 'Size of Model on Disk')"
      ]
     },
     "execution_count": 48,
     "metadata": {},
     "output_type": "execute_result"
    },
    {
     "data": {
      "image/png": "[encoded data removed]",
      "text/plain": [
       "<Figure size 432x288 with 1 Axes>"
      ]
     },
     "metadata": {
      "needs_background": "light"
     },
     "output_type": "display_data"
    }
   ],
   "source": [
    "import matplotlib.pyplot as plt\n",
    "plt.plot(gpt_size_keys, gpt_size_vals)\n",
    "plt.xlabel(\"GPT Sparsity level\")\n",
    "plt.ylabel(\"Size of Model on Disk\")"
   ]
  },
  {
   "cell_type": "code",
   "execution_count": null,
   "metadata": {},
   "outputs": [],
   "source": []
  }
 ],
 "metadata": {
  "kernelspec": {
   "display_name": "Python 3.7.7 ('fastai')",
   "language": "python",
   "name": "python3"
  },
  "language_info": {
   "codemirror_mode": {
    "name": "ipython",
    "version": 3
   },
   "file_extension": ".py",
   "mimetype": "text/x-python",
   "name": "python",
   "nbconvert_exporter": "python",
   "pygments_lexer": "ipython3",
   "version": "3.7.7"
  },
  "orig_nbformat": 4,
  "vscode": {
   "interpreter": {
    "hash": "cff89236e4253f035ffdece403293ddf1b743d59936c7e6ec5da625ccbf61c3a"
   }
  }
 },
 "nbformat": 4,
 "nbformat_minor": 2
}
